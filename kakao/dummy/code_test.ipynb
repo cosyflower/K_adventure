{
 "cells": [
  {
   "cell_type": "code",
   "execution_count": 1,
   "metadata": {},
   "outputs": [
    {
     "name": "stdout",
     "output_type": "stream",
     "text": [
      "\n"
     ]
    }
   ],
   "source": [
    "import subprocess\n",
    "import os\n",
    "# pdfinfo가 제대로 작동하는지 확인\n",
    "try:\n",
    "    result = subprocess.run(\n",
    "        [\"pdfinfo\", \"-v\"],\n",
    "        capture_output=True,\n",
    "        text=True,\n",
    "        env={\"PATH\": os.environ[\"PATH\"] + os.pathsep + r\"C:\\Users\\KV_dev\\Release-24.08.0-0\\poppler-24.08.0\\Library\\bin\"}\n",
    "    )\n",
    "    print(result.stdout)  # pdfinfo 버전 출력\n",
    "except FileNotFoundError:\n",
    "    print(\"pdfinfo not found. Check the path.\")"
   ]
  },
  {
   "cell_type": "code",
   "execution_count": null,
   "metadata": {},
   "outputs": [],
   "source": [
    "import json\n",
    "\n",
    "inputs = [\n",
    "    \"스카이넷\", \"사이버다인\", \"테크노마트\", \"네오라이즌\", \"비전크리에이트\", \"이노베이션랩\", \"퓨처웍스\", \n",
    "    \"블루오션테크\", \"아이디어박스\", \"드림캐쳐스\", \"클라우드파이\", \"데이터드리븐\", \"스마트솔루션즈\", \"테크트리\", \n",
    "]\n",
    "\n",
    "system_message = \"배열에서 사용자 입력과 유사한 회사명을 골라서 출력해줘\"\n",
    "\n",
    "name = ['미띵스', '왓챠', '위시링크', '엠버스', '그린몬스터', 'VINGLE', '키즈노트', '핀콘', '비테이브랩', '넵튠', '드라이어드', '두나무', 'PERFECT SUNDAY', '오올블루', '넥스트에이지', '위브랩', '발컨', '시드페이퍼', '두바퀴소프트', '헬스브리즈', '바이박스', '체리벅스', '레드사하라스튜디오', '바이어스코리아', 'QURYON', '루닛', '코쿤게임즈', 'STRATIO', '다이닝코드', '코인원', '유비파이', '짜이서울', 'TEAMBLIND', '모네상스', '블랙비어드', '컴패니멀스', '에이삼삼스튜디오', '코코모', '슈프림게임즈', '어바웃타임', '비트루브', '스탠다임', '브랫빌리지', '애플파이스튜디오', '솔버', '플레이메이커스튜디오', '데이블', '원에이엠', 'FUNNER', '컬쳐히어로', '팝조이', 'BITFINDER', 'HYPRESENSE', '솔트랩', '라우드코퍼레이션', '텍스트팩토리', '멋집', '어피니티', '워시온', '모모', '오비이랩', '컨버전연구소', '너드게임즈', '모아이게임즈', '시웨이브', 'SEERSLAB', '브이에이트', '시프트업', '엘라엘커머스', '플레이하드', 'YTEAMS', '닥터키친', '와탭랩스', 'PLAYSNAK', 'OING', 'TIMETREE', '베이비프렌즈', '이브이알스튜디오', '핑거플러스', '한국신용데이터', '당근마켓', 'INTELON OPTICS', '코드스쿼드', '엑소시스템즈', '페르세우스', '51GIF', 'ALCACRUZ', '생활연구소', '더널리', '원더스', '운칠기삼', '브룩허스트거라지', '미니스쿨', '스튜디오8', '래블업', 'BAYES HOLDING', '스켈터랩스', '토룩', '휴마트컴퍼니', '캐스팅엔', '딥벨리데이션', '위클리셔츠0529', 'KOODING', '엔투스튜디오', '슈가힐', '테이블매니저', '코클리어닷에이아이', '에이치앤씨게임즈', '지오인터넷', '바움디자인시스템즈', '밥게임즈', '그렙', '마스오토', 'OKHOME', '앤유', '브런트', '플랫포스', '코드박스', 'RESTREAM', '스와치온', '리플에이아이', '더클로젯컴퍼니', '루니미디어', '티밸류와이즈', 'ATLAS ROBOTICS', '로지스팟홀딩스', '겟차', '포휠즈', '홀릭스팩토리', '라프텔', '카사코리아', '자란다', '엑스트라이버', '업라이즈', '레티널', '어썸레이', '리메세', '페이레터', '플렉시코퍼레이션', 'SPATIAL SYSTEMS', '스윗코리아', '트래블월렛', '소셜빈', '아이네블루메', '오픈더테이블', '아이헤이트플라잉버그스', 'TECTUS', '스마트레이더시스템', '액스', '펜브코퍼레이션', '버핏서울', '마카롱팩토리', '리턴제로', 'MINERVA PROJECT', '셀렉트스타', '웨이브코퍼레이션', 'FYUSION', '벨루가브루어리', '남의집', '콥틱', '허닭', '브이로거', 'BLUESPACE AI', '세컨신드롬', '하이퍼하이어', '온다', '홈즈컴퍼니', '리메이크디지털', '세나클소프트', '더기프팅컴퍼니', '스낵포', 'IMPRESSIVO', '컨슈머브릿지', 'ENUMA', '비지피웍스', '문리버', 'LASE INNOVATION', '세컨핸즈', '리벨리온', '스파이더랩', '딜리헙', '테크타카', '모라이', '라이브하이브', '플랭', '위힐드', '에이슬립', '뉴튠', '왈', '레몬베이스', '라포랩스', '뉴닉', '믹서', '키노라이츠', '삼십구도씨', '뉴로티엑스', '이모코그', '딥메트릭스', '비즈니스캔버스', '리콘랩스', 'THUMB TECHNOLOGIES', '홉스', '티제이랩스 ', '플로틱', '외식인', '씨드앤', '루먼랩', '커널로그', '고이장례연구소', '워키도기', 'MARKET STADIUM', '프릿지크루', '알피', '아루', '제이앤피메디', '룬샷컴퍼니', '타임앤코', '프라이데이즈랩', '메이코더스', '키보 코', '프리베노틱스', '브이에이게임즈', '프로이드', '커스토먼트', '모요', 'LIKELION', '아티피셜소사이어티', '유머스트알앤디', 'WECOVER', '에이슨', '가지랩', '메디르', 'PRIMUS LABS', '탤런트리', '메딜리티', '21세기전파상', '위플로', '뉴웨이브커머스', '원지랩스', '노틸러스', '코넥티브', '액트노바', '비블', '에이에프아이', '벙커키즈', '버그홀', 'P4H GLOBAL', '뉴로엑스티', '보살핌', '하이로컬', '포트래이', '메디띵스', 'M3TA', 'CONTORO', '드리모', '포필러스', '폴스타게임즈', 'RUNBEAR', '오믈렛', '트리거스', 'COCHL', 'KASA', 'SWIT TECHNOLOGIES', 'MARS AUTO', '오케이홈', 'FRIDAYS LAB', '젤라또랩', '프레시지', '크래프톤', '로지스팟', '마운드미디어', 'UVIFY', '큐리온코리아', '세탁', '넵튠', '포잉코퍼레이션', '스퀴즈비츠', '비비드헬스', '샌디플로어', '지피유엔']\n",
    "\n",
    "with open('messages.jsonl', 'w') as file:\n",
    "    for i, user_input in enumerate(inputs):\n",
    "        message = {\n",
    "            'messages': [\n",
    "                {'role': 'system', 'content': system_message},\n",
    "                {'role': \"user\", 'content': str(name) + \" \" + user_input},\n",
    "                {'role': 'assistant', 'content': \"없는 회사입니다\"}\n",
    "            ]\n",
    "        }\n",
    "        json_line = json.dumps(message, ensure_ascii=False)\n",
    "        file.write(json_line + '\\n')\n",
    "\n",
    "print(\"Data has been saved to messages.jsonl\")"
   ]
  },
  {
   "cell_type": "code",
   "execution_count": null,
   "metadata": {},
   "outputs": [],
   "source": [
    "import json\n",
    "\n",
    "# inputs = ['미딩스', '와챠', 'FUNER', '쿨쳐히어로', '폽조이', 'BITfINDER', 'HYPRESENSE', '솔트랩', '라우드코퍼레이션', '텍스트팩토리',  '지피유엔',\n",
    "#           '미딩스', '와챠', 'FUNER', '쿨쳐히어로', '폽조이', 'BITfINDER', 'HYPRESNSE', '솔투랩', '라우드코퍼래이션', '택스트팩토리',  '지피유앤',\n",
    "#           'ㅁ;ㄸ;ㅇ스', '왓차', 'funner', '컬처히어로', '팹조이', 'bifidier', 'hypersense', '슬트랩', '러우드코퍼레이션', '택스트펙토리',  '직피유엔',\n",
    "#           '미 띵스', '왓ㅊㅑ', 'FUNNEa', '컬쳐히어ㄹ오', '팝조이', 'bitfeidwer', 'HYPRESEser', '슬트랩', '라우드코퍼레이션', '탁스트팩토리',  '지피유ㅇㄹ엔']\n",
    "\n",
    "inputs = [\n",
    "    \"스카이넷\", \"사이버다인\", \"테크노마트\", \"네오라이즌\", \"비전크리에이트\", \"이노베이션랩\", \"퓨처웍스\", \n",
    "    \"블루오션테크\", \"아이디어박스\", \"드림캐쳐스\", \"클라우드파이\", \"데이터드리븐\", \"스마트솔루션즈\", \"테크트리\", \n",
    "]\n",
    "\n",
    "system_message = \"[]안에 있는 회사명들 중에서 ()안에 있는 회사명과 가장 비슷한 회사를 출력해.\"\n",
    "\n",
    "a = ['미띵스', '왓챠', 'FUNNER', '컬쳐히어로', '팝조이', 'BITFINDER', 'HYPRESENSE', '솔트랩', '라우드코퍼레이션', '텍스트팩토리',  '지피유엔']\n",
    "\n",
    "name = ['미띵스', '왓챠', 'FUNNER', '컬쳐히어로', '팝조이', 'BITFINDER', 'HYPRESENSE', '솔트랩', '라우드코퍼레이션', '텍스트팩토리',  '지피유엔',\n",
    "        '미띵스', '왓챠', 'FUNNER', '컬쳐히어로', '팝조이', 'BITFINDER', 'HYPRESENSE', '솔트랩', '라우드코퍼레이션', '텍스트팩토리',  '지피유엔',\n",
    "        '미띵스', '왓챠', 'FUNNER', '컬쳐히어로', '팝조이', 'BITFINDER', 'HYPRESENSE', '솔트랩', '라우드코퍼레이션', '텍스트팩토리',  '지피유엔',\n",
    "        '미띵스', '왓챠', 'FUNNER', '컬쳐히어로', '팝조이', 'BITFINDER', 'HYPRESENSE', '솔트랩', '라우드코퍼레이션', '텍스트팩토리',  '지피유엔',\n",
    "]\n",
    "\n",
    "with open('messages.jsonl', 'w') as file:\n",
    "    for i, user_input in enumerate(inputs):\n",
    "        message = {\n",
    "            'messages': [\n",
    "                {'role': 'system', 'content': system_message},\n",
    "                {'role': \"user\", 'content': str(a) + \" (\" + user_input + \")\"},\n",
    "                {'role': 'assistant', 'content': 'X'}\n",
    "            ]\n",
    "        }\n",
    "        json_line = json.dumps(message, ensure_ascii=False)\n",
    "        file.write(json_line + '\\n')\n",
    "\n",
    "print(\"Data has been saved to messages.jsonl\")"
   ]
  }
 ],
 "metadata": {
  "kernelspec": {
   "display_name": "base",
   "language": "python",
   "name": "python3"
  },
  "language_info": {
   "codemirror_mode": {
    "name": "ipython",
    "version": 3
   },
   "file_extension": ".py",
   "mimetype": "text/x-python",
   "name": "python",
   "nbconvert_exporter": "python",
   "pygments_lexer": "ipython3",
   "version": "3.12.7"
  }
 },
 "nbformat": 4,
 "nbformat_minor": 2
}
